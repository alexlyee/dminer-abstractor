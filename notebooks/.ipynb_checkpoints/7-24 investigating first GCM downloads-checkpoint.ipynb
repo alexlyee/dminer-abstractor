{
 "cells": [
  {
   "cell_type": "code",
   "execution_count": 2,
   "id": "f973aaf2-a82e-4b8d-89a8-475b2c6d7d2a",
   "metadata": {},
   "outputs": [],
   "source": [
    "import netCDF4\n",
    "import numpy as np\n",
    "\n",
    "# open the dataset\n",
    "dataset = netCDF4.Dataset('C:/Users/alexo/Documents/Projects/DMiner-work/new/downloads/2/tmp, percip/from 1979-01-01 - 2100-01-01/61b95de78bba886bd1c5216a.nc')"
   ]
  },
  {
   "cell_type": "code",
   "execution_count": 3,
   "id": "fa2f1546-1ebd-4c9f-a3a8-0708f9f821e7",
   "metadata": {},
   "outputs": [],
   "source": [
    "# Access the time variable\n",
    "time_var = dataset.variables['time']\n",
    "\n",
    "# Get the time units\n",
    "time_units = time_var.units"
   ]
  },
  {
   "cell_type": "code",
   "execution_count": 10,
   "id": "703f999b-526b-4bc3-9ccb-601782676a69",
   "metadata": {},
   "outputs": [
    {
     "name": "stdout",
     "output_type": "stream",
     "text": [
      "Date range:  6706-05-09 00:00:00  to  6706-06-07 00:00:00\n",
      "days since 1850-1-1 00:00:00\n"
     ]
    }
   ],
   "source": [
    "# Convert the time values to datetime objects\n",
    "dates = netCDF4.num2date(time_var[:], time_units)\n",
    "\n",
    "# Convert the dates to python datetime objects and find min and max dates\n",
    "dates = [date.toordinal() for date in dates]\n",
    "min_date = min(dates)\n",
    "max_date = max(dates)\n",
    "\n",
    "# Convert back to datetime format\n",
    "from datetime import datetime\n",
    "min_date = datetime.fromordinal(min_date)\n",
    "max_date = datetime.fromordinal(max_date)\n",
    "\n",
    "# Print the first and last date\n",
    "print('Date range: ', min_date, ' to ', max_date)\n",
    "\n",
    "# Get the time units\n",
    "time_units = time_var.units\n",
    "print(time_units)"
   ]
  },
  {
   "cell_type": "markdown",
   "id": "df509dd2-1b5a-45ad-82cd-1344884497b5",
   "metadata": {},
   "source": [
    "date range is really strange... let's change that"
   ]
  },
  {
   "cell_type": "code",
   "execution_count": 11,
   "id": "effaa7c8-e8b1-4856-8297-628cf9df92f2",
   "metadata": {},
   "outputs": [
    {
     "name": "stdout",
     "output_type": "stream",
     "text": [
      "Date range:  1993-04-01 00:00:00  to  1993-04-30 18:00:00\n"
     ]
    }
   ],
   "source": [
    "from datetime import datetime, timedelta\n",
    "\n",
    "# Define the reference date\n",
    "reference_date = datetime(1850, 1, 1)\n",
    "\n",
    "# Convert the time values to timedelta objects and add them to the reference date\n",
    "dates = [reference_date + timedelta(days=float(t)) for t in time_var[:]]\n",
    "\n",
    "# Get the min and max dates\n",
    "min_date = min(dates)\n",
    "max_date = max(dates)\n",
    "\n",
    "# Print the first and last date\n",
    "print('Date range: ', min_date, ' to ', max_date)"
   ]
  },
  {
   "cell_type": "code",
   "execution_count": 12,
   "id": "38950deb-dbfb-420f-b37e-e90f9e2dd1ff",
   "metadata": {},
   "outputs": [
    {
     "name": "stdout",
     "output_type": "stream",
     "text": [
      "Is data 4 times per day?  True\n"
     ]
    }
   ],
   "source": [
    "# To check if data is 4 times per day, count the unique days and compare with the total entries\n",
    "unique_days = np.unique([date.date() for date in dates])\n",
    "print('Is data 4 times per day? ', len(dates) == 4 * len(unique_days))"
   ]
  },
  {
   "cell_type": "code",
   "execution_count": null,
   "id": "2b0e96cc-7958-48ec-ab79-78f58172ca6d",
   "metadata": {},
   "outputs": [],
   "source": []
  }
 ],
 "metadata": {
  "kernelspec": {
   "display_name": "Python 3 (ipykernel)",
   "language": "python",
   "name": "python3"
  },
  "language_info": {
   "codemirror_mode": {
    "name": "ipython",
    "version": 3
   },
   "file_extension": ".py",
   "mimetype": "text/x-python",
   "name": "python",
   "nbconvert_exporter": "python",
   "pygments_lexer": "ipython3",
   "version": "3.11.1"
  }
 },
 "nbformat": 4,
 "nbformat_minor": 5
}
